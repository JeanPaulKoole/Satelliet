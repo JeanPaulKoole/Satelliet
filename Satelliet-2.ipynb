{
 "cells": [
  {
   "cell_type": "raw",
   "id": "7248ad6c-74fb-4538-8d04-5d07af1c77f6",
   "metadata": {},
   "source": [
    "SatPy\n",
    "A Python Library for Weather Satellite Processing\n",
    "Satpy is a python library for reading, manipulating, and writing data from remote-sensing earth-observing meteorological satellite instruments.\n",
    "Satpy provides users with readers that convert geophysical parameters from various file formats to the common Xarray DataArray and Dataset classes for easier interoperability with other scientific python libraries.\n",
    "Satpy also provides interfaces for creating RGB (Red/Green/Blue) images and other composite types by combining data from multiple instrument bands or products.\n",
    "Various atmospheric corrections and visual enhancements are provided for improving the usefulness and quality of output images. Output data can be written to multiple output file formats such as PNG, GeoTIFF, and CF standard NetCDF files.\n",
    "Satpy also allows users to resample data to geographic projected grids (areas).\n",
    "Satpy Documentation, examples, quickstart: https://satpy.readthedocs.io/en/latest/index.html"
   ]
  },
  {
   "cell_type": "code",
   "execution_count": null,
   "id": "193c4f89-9314-4b0c-af9f-5d618a5dde3e",
   "metadata": {},
   "outputs": [],
   "source": [
    "from satpy.scene import Scene\n",
    "from satpy.resample import get_area_def\n",
    "from satpy import find_files_and_readers\n",
    "from datetime import datetime\n",
    "import glob\n",
    "import warnings\n",
    "import matplotlib.pyplot as plt\n",
    "import warnings\n",
    "warnings.filterwarnings('ignore')\n",
    "\n",
    "\n",
    "# Date format in YYYYMMDDhhmm. Change the link to the corresponding folder. Make sure to change \"\\\" (backslash) into forward slash in the link. uze asterix for wild card.\n",
    "fnames = glob.glob('MSG4-SEVI-MSG15-0100-NA-20220218121242.939000000Z-NA.nat')\n",
    "\n",
    "scn = Scene(reader='seviri_l1b_native',  filenames=fnames)"
   ]
  },
  {
   "cell_type": "code",
   "execution_count": null,
   "id": "fadfefce-7786-4ace-95c5-427f82ca17e2",
   "metadata": {},
   "outputs": [],
   "source": [
    "from satpy import available_readers\n",
    "available_readers()"
   ]
  },
  {
   "cell_type": "code",
   "execution_count": null,
   "id": "219e4f26-102d-48a5-9954-29346e8652de",
   "metadata": {},
   "outputs": [],
   "source": [
    "scn.available_dataset_names()"
   ]
  },
  {
   "cell_type": "code",
   "execution_count": null,
   "id": "2fa59f6a-488f-4ee9-b640-735172bce538",
   "metadata": {},
   "outputs": [],
   "source": [
    "scn.load(['IR_108'])\n",
    "\n",
    "scn.keys()"
   ]
  },
  {
   "cell_type": "code",
   "execution_count": null,
   "id": "dee9f34c-cb92-4b54-aa9c-f5d8c02ce5a3",
   "metadata": {},
   "outputs": [],
   "source": [
    "scn['IR_108'].attrs['area']"
   ]
  },
  {
   "cell_type": "code",
   "execution_count": null,
   "id": "f02d09e7-2e8d-46c9-aae3-179fc007c200",
   "metadata": {},
   "outputs": [],
   "source": [
    "print(scn['IR_108'].attrs['start_time'])\n",
    "print(scn['IR_108'].attrs['end_time'])"
   ]
  },
  {
   "cell_type": "code",
   "execution_count": null,
   "id": "fefb08b8-9537-4656-88f6-afb5ebea8ebd",
   "metadata": {},
   "outputs": [],
   "source": [
    "print(scn['IR_108'].attrs.keys())"
   ]
  },
  {
   "cell_type": "code",
   "execution_count": null,
   "id": "2d74bc29-cbac-4d4a-aae9-afcc7b15ec81",
   "metadata": {},
   "outputs": [],
   "source": [
    "print(scn)"
   ]
  },
  {
   "cell_type": "code",
   "execution_count": null,
   "id": "e290d527-f74d-46fa-83c7-758f18c27995",
   "metadata": {},
   "outputs": [],
   "source": [
    "scn.show('IR_108')\n"
   ]
  },
  {
   "cell_type": "code",
   "execution_count": null,
   "id": "b82fa4a6-2754-4732-b199-b98bfbd77541",
   "metadata": {},
   "outputs": [],
   "source": [
    "scn.load(['IR_108'], upper_right_corner='NE')\n",
    "\n",
    "scn.show('IR_108')"
   ]
  },
  {
   "cell_type": "code",
   "execution_count": null,
   "id": "287fe018-7909-4252-b013-d820c9bf6627",
   "metadata": {},
   "outputs": [],
   "source": [
    "scn.available_composite_names()"
   ]
  },
  {
   "cell_type": "code",
   "execution_count": null,
   "id": "fd27dfad-828d-4592-b4a7-d03dfeda028a",
   "metadata": {},
   "outputs": [],
   "source": [
    "scn.load([\"natural_color\"], upper_right_corner='NE')\n",
    "scn.show(\"natural_color\")"
   ]
  },
  {
   "cell_type": "code",
   "execution_count": null,
   "id": "4e3a3b6f-f1ea-429d-8023-604fea3b4de5",
   "metadata": {},
   "outputs": [],
   "source": [
    "scn['IR_108'].max().compute()"
   ]
  },
  {
   "cell_type": "code",
   "execution_count": null,
   "id": "0e8fafb7",
   "metadata": {},
   "outputs": [],
   "source": [
    "scn['IR_108'].min().compute()"
   ]
  },
  {
   "cell_type": "code",
   "execution_count": null,
   "id": "b53863f2",
   "metadata": {},
   "outputs": [],
   "source": [
    "#this part of code make the plot interactive\n",
    "%matplotlib notebook \n",
    "scn['IR_108'].plot.imshow()"
   ]
  },
  {
   "cell_type": "code",
   "execution_count": null,
   "id": "4c8539d7",
   "metadata": {},
   "outputs": [],
   "source": [
    "plt.figure()\n",
    "plt.imshow(scn['IR_108'].values, cmap=\"RdBu\")\n",
    "plt.colorbar()"
   ]
  },
  {
   "cell_type": "code",
   "execution_count": null,
   "id": "31cec040",
   "metadata": {},
   "outputs": [],
   "source": [
    "local_scene = scn.resample(\"africa\")\n",
    "local_scene.show('IR_108')"
   ]
  },
  {
   "cell_type": "code",
   "execution_count": null,
   "id": "e31a4317",
   "metadata": {},
   "outputs": [],
   "source": [
    "local_scene = scn.resample(\"eurol1\")\n",
    "local_scene.show('IR_108')"
   ]
  },
  {
   "cell_type": "code",
   "execution_count": null,
   "id": "e94ccabd",
   "metadata": {},
   "outputs": [],
   "source": [
    "scn.load([\"natural_color\"])\n",
    "scn.show(\"natural_color\")"
   ]
  },
  {
   "cell_type": "code",
   "execution_count": null,
   "id": "70e9120c",
   "metadata": {},
   "outputs": [],
   "source": [
    "local_scene = scn.resample(\"eurol1\")\n",
    "local_scene.show('natural_color')"
   ]
  },
  {
   "cell_type": "code",
   "execution_count": null,
   "id": "91e34e0f",
   "metadata": {},
   "outputs": [],
   "source": [
    "scn.load([\"airmass\"])\n",
    "local_scene = scn.resample(\"eurol1\")\n",
    "local_scene.show('airmass')"
   ]
  },
  {
   "cell_type": "code",
   "execution_count": null,
   "id": "f78cb908",
   "metadata": {},
   "outputs": [],
   "source": [
    "plt.figure(figsize=(7, 7))\n",
    "\n",
    "\n",
    "crs =local_scene['IR_108'].attrs['area'].to_cartopy_crs()\n",
    "ax = plt.axes(projection=crs)\n",
    "\n",
    "\n",
    "#ax.coastlines(resolution='110m')\n",
    "#ax.gridlines()\n",
    "#ax.set_global()\n",
    "\n",
    "local_scene['IR_108'].plot.imshow(cmap=\"RdBu\", vmin=200, vmax=300, alpha=1) #, vmin=185, vmax=210)\n",
    "plt.title(\"IR_108\")\n",
    "plt.show()"
   ]
  },
  {
   "cell_type": "code",
   "execution_count": null,
   "id": "f81a9da8",
   "metadata": {},
   "outputs": [],
   "source": []
  }
 ],
 "metadata": {
  "kernelspec": {
   "display_name": "Python 3 (ipykernel)",
   "language": "python",
   "name": "python3"
  },
  "language_info": {
   "codemirror_mode": {
    "name": "ipython",
    "version": 3
   },
   "file_extension": ".py",
   "mimetype": "text/x-python",
   "name": "python",
   "nbconvert_exporter": "python",
   "pygments_lexer": "ipython3",
   "version": "3.9.7"
  }
 },
 "nbformat": 4,
 "nbformat_minor": 5
}
